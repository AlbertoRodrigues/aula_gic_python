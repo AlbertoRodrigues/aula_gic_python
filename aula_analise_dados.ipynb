{
 "cells": [
  {
   "cell_type": "markdown",
   "id": "fe491c3a",
   "metadata": {},
   "source": [
    "# Introdução à Análise de Dados com Python\n",
    "Este notebook apresenta operações básicas para análise de dados, incluindo manipulação e visualização de dados utilizando as bibliotecas `pandas` e `matplotlib`. "
   ]
  },
  {
   "cell_type": "code",
   "execution_count": 9,
   "id": "0ab173c0",
   "metadata": {},
   "outputs": [],
   "source": [
    "#%pip install pandas\n",
    "#%pip install openpyxl\n",
    "#%pip install matplotlib"
   ]
  },
  {
   "cell_type": "code",
   "execution_count": 10,
   "id": "636bf839",
   "metadata": {},
   "outputs": [],
   "source": [
    "import pandas as pd\n",
    "import matplotlib.pyplot as plt"
   ]
  },
  {
   "cell_type": "markdown",
   "id": "3ff05214",
   "metadata": {},
   "source": [
    "## 1. Leitura de Dados\n",
    "Vamos trabalhar com um arquivo Excel que contém duas tabelas:\n",
    "- **Vendas**: Informações sobre as vendas realizadas.\n",
    "- **Clientes**: Informações sobre os clientes.\n",
    "\n",
    "Carregamos os dados abaixo:"
   ]
  },
  {
   "cell_type": "code",
   "execution_count": 17,
   "id": "1f91b322",
   "metadata": {},
   "outputs": [
    {
     "data": {
      "text/plain": [
       "(   ID Cliente    Produto  Valor       Data\n",
       " 0           7  Produto C   1595 2023-01-01\n",
       " 1          20  Produto D   3404 2023-01-02\n",
       " 2          15  Produto D   3863 2023-01-03\n",
       " 3          11  Produto B   1953 2023-01-04\n",
       " 4           8  Produto C   4759 2023-01-05,\n",
       "    ID Cliente    Nome        Região\n",
       " 0           1    João      Nordeste\n",
       " 1           2   Maria           Sul\n",
       " 2           3   Pedro           Sul\n",
       " 3           4     Ana  Centro-Oeste\n",
       " 4           5  Carlos      Nordeste)"
      ]
     },
     "execution_count": 17,
     "metadata": {},
     "output_type": "execute_result"
    }
   ],
   "source": [
    "# Carregar os dados\n",
    "vendas = pd.read_excel('dados_vendas_novos.xlsx', sheet_name='Vendas')\n",
    "clientes = pd.read_excel('dados_vendas_novos.xlsx', sheet_name='Clientes')\n",
    "vendas.head(), clientes.head()"
   ]
  },
  {
   "cell_type": "code",
   "execution_count": 25,
   "id": "ad97560c",
   "metadata": {},
   "outputs": [
    {
     "data": {
      "text/html": [
       "<div>\n",
       "<style scoped>\n",
       "    .dataframe tbody tr th:only-of-type {\n",
       "        vertical-align: middle;\n",
       "    }\n",
       "\n",
       "    .dataframe tbody tr th {\n",
       "        vertical-align: top;\n",
       "    }\n",
       "\n",
       "    .dataframe thead th {\n",
       "        text-align: right;\n",
       "    }\n",
       "</style>\n",
       "<table border=\"1\" class=\"dataframe\">\n",
       "  <thead>\n",
       "    <tr style=\"text-align: right;\">\n",
       "      <th></th>\n",
       "      <th>ID Cliente</th>\n",
       "      <th>Valor</th>\n",
       "      <th>Data</th>\n",
       "    </tr>\n",
       "  </thead>\n",
       "  <tbody>\n",
       "    <tr>\n",
       "      <th>count</th>\n",
       "      <td>100.000000</td>\n",
       "      <td>100.00000</td>\n",
       "      <td>100</td>\n",
       "    </tr>\n",
       "    <tr>\n",
       "      <th>mean</th>\n",
       "      <td>10.010000</td>\n",
       "      <td>2705.32000</td>\n",
       "      <td>2023-02-19 12:00:00</td>\n",
       "    </tr>\n",
       "    <tr>\n",
       "      <th>min</th>\n",
       "      <td>1.000000</td>\n",
       "      <td>198.00000</td>\n",
       "      <td>2023-01-01 00:00:00</td>\n",
       "    </tr>\n",
       "    <tr>\n",
       "      <th>25%</th>\n",
       "      <td>5.750000</td>\n",
       "      <td>1745.00000</td>\n",
       "      <td>2023-01-25 18:00:00</td>\n",
       "    </tr>\n",
       "    <tr>\n",
       "      <th>50%</th>\n",
       "      <td>9.500000</td>\n",
       "      <td>2990.00000</td>\n",
       "      <td>2023-02-19 12:00:00</td>\n",
       "    </tr>\n",
       "    <tr>\n",
       "      <th>75%</th>\n",
       "      <td>15.000000</td>\n",
       "      <td>3802.75000</td>\n",
       "      <td>2023-03-16 06:00:00</td>\n",
       "    </tr>\n",
       "    <tr>\n",
       "      <th>max</th>\n",
       "      <td>20.000000</td>\n",
       "      <td>4837.00000</td>\n",
       "      <td>2023-04-10 00:00:00</td>\n",
       "    </tr>\n",
       "    <tr>\n",
       "      <th>std</th>\n",
       "      <td>5.535003</td>\n",
       "      <td>1344.94825</td>\n",
       "      <td>NaN</td>\n",
       "    </tr>\n",
       "  </tbody>\n",
       "</table>\n",
       "</div>"
      ],
      "text/plain": [
       "       ID Cliente       Valor                 Data\n",
       "count  100.000000   100.00000                  100\n",
       "mean    10.010000  2705.32000  2023-02-19 12:00:00\n",
       "min      1.000000   198.00000  2023-01-01 00:00:00\n",
       "25%      5.750000  1745.00000  2023-01-25 18:00:00\n",
       "50%      9.500000  2990.00000  2023-02-19 12:00:00\n",
       "75%     15.000000  3802.75000  2023-03-16 06:00:00\n",
       "max     20.000000  4837.00000  2023-04-10 00:00:00\n",
       "std      5.535003  1344.94825                  NaN"
      ]
     },
     "execution_count": 25,
     "metadata": {},
     "output_type": "execute_result"
    }
   ],
   "source": [
    "vendas.describe()"
   ]
  },
  {
   "cell_type": "code",
   "execution_count": 26,
   "id": "692ee71f",
   "metadata": {},
   "outputs": [
    {
     "data": {
      "text/html": [
       "<div>\n",
       "<style scoped>\n",
       "    .dataframe tbody tr th:only-of-type {\n",
       "        vertical-align: middle;\n",
       "    }\n",
       "\n",
       "    .dataframe tbody tr th {\n",
       "        vertical-align: top;\n",
       "    }\n",
       "\n",
       "    .dataframe thead th {\n",
       "        text-align: right;\n",
       "    }\n",
       "</style>\n",
       "<table border=\"1\" class=\"dataframe\">\n",
       "  <thead>\n",
       "    <tr style=\"text-align: right;\">\n",
       "      <th></th>\n",
       "      <th>ID Cliente</th>\n",
       "    </tr>\n",
       "  </thead>\n",
       "  <tbody>\n",
       "    <tr>\n",
       "      <th>count</th>\n",
       "      <td>20.00000</td>\n",
       "    </tr>\n",
       "    <tr>\n",
       "      <th>mean</th>\n",
       "      <td>10.50000</td>\n",
       "    </tr>\n",
       "    <tr>\n",
       "      <th>std</th>\n",
       "      <td>5.91608</td>\n",
       "    </tr>\n",
       "    <tr>\n",
       "      <th>min</th>\n",
       "      <td>1.00000</td>\n",
       "    </tr>\n",
       "    <tr>\n",
       "      <th>25%</th>\n",
       "      <td>5.75000</td>\n",
       "    </tr>\n",
       "    <tr>\n",
       "      <th>50%</th>\n",
       "      <td>10.50000</td>\n",
       "    </tr>\n",
       "    <tr>\n",
       "      <th>75%</th>\n",
       "      <td>15.25000</td>\n",
       "    </tr>\n",
       "    <tr>\n",
       "      <th>max</th>\n",
       "      <td>20.00000</td>\n",
       "    </tr>\n",
       "  </tbody>\n",
       "</table>\n",
       "</div>"
      ],
      "text/plain": [
       "       ID Cliente\n",
       "count    20.00000\n",
       "mean     10.50000\n",
       "std       5.91608\n",
       "min       1.00000\n",
       "25%       5.75000\n",
       "50%      10.50000\n",
       "75%      15.25000\n",
       "max      20.00000"
      ]
     },
     "execution_count": 26,
     "metadata": {},
     "output_type": "execute_result"
    }
   ],
   "source": [
    "clientes.describe()"
   ]
  },
  {
   "cell_type": "markdown",
   "id": "37cf0687",
   "metadata": {},
   "source": [
    "## 2. Transformação e Manipulação de Dados\n",
    "### 2.1 Filtros Simples\n",
    "Filtrar as vendas acima de R$1000."
   ]
  },
  {
   "cell_type": "code",
   "execution_count": 18,
   "id": "e47eade9",
   "metadata": {},
   "outputs": [
    {
     "data": {
      "text/html": [
       "<div>\n",
       "<style scoped>\n",
       "    .dataframe tbody tr th:only-of-type {\n",
       "        vertical-align: middle;\n",
       "    }\n",
       "\n",
       "    .dataframe tbody tr th {\n",
       "        vertical-align: top;\n",
       "    }\n",
       "\n",
       "    .dataframe thead th {\n",
       "        text-align: right;\n",
       "    }\n",
       "</style>\n",
       "<table border=\"1\" class=\"dataframe\">\n",
       "  <thead>\n",
       "    <tr style=\"text-align: right;\">\n",
       "      <th></th>\n",
       "      <th>ID Cliente</th>\n",
       "      <th>Produto</th>\n",
       "      <th>Valor</th>\n",
       "      <th>Data</th>\n",
       "    </tr>\n",
       "  </thead>\n",
       "  <tbody>\n",
       "    <tr>\n",
       "      <th>0</th>\n",
       "      <td>7</td>\n",
       "      <td>Produto C</td>\n",
       "      <td>1595</td>\n",
       "      <td>2023-01-01</td>\n",
       "    </tr>\n",
       "    <tr>\n",
       "      <th>1</th>\n",
       "      <td>20</td>\n",
       "      <td>Produto D</td>\n",
       "      <td>3404</td>\n",
       "      <td>2023-01-02</td>\n",
       "    </tr>\n",
       "    <tr>\n",
       "      <th>2</th>\n",
       "      <td>15</td>\n",
       "      <td>Produto D</td>\n",
       "      <td>3863</td>\n",
       "      <td>2023-01-03</td>\n",
       "    </tr>\n",
       "    <tr>\n",
       "      <th>3</th>\n",
       "      <td>11</td>\n",
       "      <td>Produto B</td>\n",
       "      <td>1953</td>\n",
       "      <td>2023-01-04</td>\n",
       "    </tr>\n",
       "    <tr>\n",
       "      <th>4</th>\n",
       "      <td>8</td>\n",
       "      <td>Produto C</td>\n",
       "      <td>4759</td>\n",
       "      <td>2023-01-05</td>\n",
       "    </tr>\n",
       "    <tr>\n",
       "      <th>...</th>\n",
       "      <td>...</td>\n",
       "      <td>...</td>\n",
       "      <td>...</td>\n",
       "      <td>...</td>\n",
       "    </tr>\n",
       "    <tr>\n",
       "      <th>94</th>\n",
       "      <td>8</td>\n",
       "      <td>Produto D</td>\n",
       "      <td>4167</td>\n",
       "      <td>2023-04-05</td>\n",
       "    </tr>\n",
       "    <tr>\n",
       "      <th>96</th>\n",
       "      <td>2</td>\n",
       "      <td>Produto C</td>\n",
       "      <td>4593</td>\n",
       "      <td>2023-04-07</td>\n",
       "    </tr>\n",
       "    <tr>\n",
       "      <th>97</th>\n",
       "      <td>1</td>\n",
       "      <td>Produto C</td>\n",
       "      <td>1400</td>\n",
       "      <td>2023-04-08</td>\n",
       "    </tr>\n",
       "    <tr>\n",
       "      <th>98</th>\n",
       "      <td>16</td>\n",
       "      <td>Produto B</td>\n",
       "      <td>4087</td>\n",
       "      <td>2023-04-09</td>\n",
       "    </tr>\n",
       "    <tr>\n",
       "      <th>99</th>\n",
       "      <td>5</td>\n",
       "      <td>Produto D</td>\n",
       "      <td>1627</td>\n",
       "      <td>2023-04-10</td>\n",
       "    </tr>\n",
       "  </tbody>\n",
       "</table>\n",
       "<p>86 rows × 4 columns</p>\n",
       "</div>"
      ],
      "text/plain": [
       "    ID Cliente    Produto  Valor       Data\n",
       "0            7  Produto C   1595 2023-01-01\n",
       "1           20  Produto D   3404 2023-01-02\n",
       "2           15  Produto D   3863 2023-01-03\n",
       "3           11  Produto B   1953 2023-01-04\n",
       "4            8  Produto C   4759 2023-01-05\n",
       "..         ...        ...    ...        ...\n",
       "94           8  Produto D   4167 2023-04-05\n",
       "96           2  Produto C   4593 2023-04-07\n",
       "97           1  Produto C   1400 2023-04-08\n",
       "98          16  Produto B   4087 2023-04-09\n",
       "99           5  Produto D   1627 2023-04-10\n",
       "\n",
       "[86 rows x 4 columns]"
      ]
     },
     "execution_count": 18,
     "metadata": {},
     "output_type": "execute_result"
    }
   ],
   "source": [
    "# Filtrar vendas acima de R$1000\n",
    "vendas_acima_1000 = vendas[vendas['Valor'] > 1000]\n",
    "vendas_acima_1000"
   ]
  },
  {
   "cell_type": "markdown",
   "id": "e080c35b",
   "metadata": {},
   "source": [
    "### 2.2 Filtros com `isin`\n",
    "Selecionar clientes das regiões 'Sul' e 'Sudeste'."
   ]
  },
  {
   "cell_type": "code",
   "execution_count": 19,
   "id": "1ce4ebef",
   "metadata": {},
   "outputs": [
    {
     "data": {
      "text/html": [
       "<div>\n",
       "<style scoped>\n",
       "    .dataframe tbody tr th:only-of-type {\n",
       "        vertical-align: middle;\n",
       "    }\n",
       "\n",
       "    .dataframe tbody tr th {\n",
       "        vertical-align: top;\n",
       "    }\n",
       "\n",
       "    .dataframe thead th {\n",
       "        text-align: right;\n",
       "    }\n",
       "</style>\n",
       "<table border=\"1\" class=\"dataframe\">\n",
       "  <thead>\n",
       "    <tr style=\"text-align: right;\">\n",
       "      <th></th>\n",
       "      <th>ID Cliente</th>\n",
       "      <th>Nome</th>\n",
       "      <th>Região</th>\n",
       "    </tr>\n",
       "  </thead>\n",
       "  <tbody>\n",
       "    <tr>\n",
       "      <th>1</th>\n",
       "      <td>2</td>\n",
       "      <td>Maria</td>\n",
       "      <td>Sul</td>\n",
       "    </tr>\n",
       "    <tr>\n",
       "      <th>2</th>\n",
       "      <td>3</td>\n",
       "      <td>Pedro</td>\n",
       "      <td>Sul</td>\n",
       "    </tr>\n",
       "    <tr>\n",
       "      <th>10</th>\n",
       "      <td>11</td>\n",
       "      <td>Ricardo</td>\n",
       "      <td>Sudeste</td>\n",
       "    </tr>\n",
       "    <tr>\n",
       "      <th>12</th>\n",
       "      <td>13</td>\n",
       "      <td>Marcelo</td>\n",
       "      <td>Sul</td>\n",
       "    </tr>\n",
       "    <tr>\n",
       "      <th>14</th>\n",
       "      <td>15</td>\n",
       "      <td>Rafael</td>\n",
       "      <td>Sul</td>\n",
       "    </tr>\n",
       "  </tbody>\n",
       "</table>\n",
       "</div>"
      ],
      "text/plain": [
       "    ID Cliente     Nome   Região\n",
       "1            2    Maria      Sul\n",
       "2            3    Pedro      Sul\n",
       "10          11  Ricardo  Sudeste\n",
       "12          13  Marcelo      Sul\n",
       "14          15   Rafael      Sul"
      ]
     },
     "execution_count": 19,
     "metadata": {},
     "output_type": "execute_result"
    }
   ],
   "source": [
    "# Filtrar clientes das regiões 'Sul' e 'Sudeste'. Muito bom quando se tem vários elementos para filtrar de uma vez só\n",
    "clientes_filtrados = clientes[clientes['Região'].isin(['Sul', 'Sudeste'])]\n",
    "clientes_filtrados"
   ]
  },
  {
   "cell_type": "markdown",
   "id": "6dd8c220",
   "metadata": {},
   "source": [
    "### 2.3 Cruzamento de Bases\n",
    "Vamos combinar as tabelas de vendas e clientes usando a coluna `ID Cliente`. Isso nos permitirá ter informações mais completas sobre cada venda."
   ]
  },
  {
   "cell_type": "code",
   "execution_count": 20,
   "id": "a676f136",
   "metadata": {},
   "outputs": [
    {
     "data": {
      "text/html": [
       "<div>\n",
       "<style scoped>\n",
       "    .dataframe tbody tr th:only-of-type {\n",
       "        vertical-align: middle;\n",
       "    }\n",
       "\n",
       "    .dataframe tbody tr th {\n",
       "        vertical-align: top;\n",
       "    }\n",
       "\n",
       "    .dataframe thead th {\n",
       "        text-align: right;\n",
       "    }\n",
       "</style>\n",
       "<table border=\"1\" class=\"dataframe\">\n",
       "  <thead>\n",
       "    <tr style=\"text-align: right;\">\n",
       "      <th></th>\n",
       "      <th>ID Cliente</th>\n",
       "      <th>Produto</th>\n",
       "      <th>Valor</th>\n",
       "      <th>Data</th>\n",
       "      <th>Nome</th>\n",
       "      <th>Região</th>\n",
       "    </tr>\n",
       "  </thead>\n",
       "  <tbody>\n",
       "    <tr>\n",
       "      <th>0</th>\n",
       "      <td>7</td>\n",
       "      <td>Produto C</td>\n",
       "      <td>1595</td>\n",
       "      <td>2023-01-01</td>\n",
       "      <td>Paula</td>\n",
       "      <td>Norte</td>\n",
       "    </tr>\n",
       "    <tr>\n",
       "      <th>1</th>\n",
       "      <td>20</td>\n",
       "      <td>Produto D</td>\n",
       "      <td>3404</td>\n",
       "      <td>2023-01-02</td>\n",
       "      <td>Larissa</td>\n",
       "      <td>Centro-Oeste</td>\n",
       "    </tr>\n",
       "    <tr>\n",
       "      <th>2</th>\n",
       "      <td>15</td>\n",
       "      <td>Produto D</td>\n",
       "      <td>3863</td>\n",
       "      <td>2023-01-03</td>\n",
       "      <td>Rafael</td>\n",
       "      <td>Sul</td>\n",
       "    </tr>\n",
       "    <tr>\n",
       "      <th>3</th>\n",
       "      <td>11</td>\n",
       "      <td>Produto B</td>\n",
       "      <td>1953</td>\n",
       "      <td>2023-01-04</td>\n",
       "      <td>Ricardo</td>\n",
       "      <td>Sudeste</td>\n",
       "    </tr>\n",
       "    <tr>\n",
       "      <th>4</th>\n",
       "      <td>8</td>\n",
       "      <td>Produto C</td>\n",
       "      <td>4759</td>\n",
       "      <td>2023-01-05</td>\n",
       "      <td>Roberto</td>\n",
       "      <td>Nordeste</td>\n",
       "    </tr>\n",
       "    <tr>\n",
       "      <th>...</th>\n",
       "      <td>...</td>\n",
       "      <td>...</td>\n",
       "      <td>...</td>\n",
       "      <td>...</td>\n",
       "      <td>...</td>\n",
       "      <td>...</td>\n",
       "    </tr>\n",
       "    <tr>\n",
       "      <th>95</th>\n",
       "      <td>12</td>\n",
       "      <td>Produto D</td>\n",
       "      <td>260</td>\n",
       "      <td>2023-04-06</td>\n",
       "      <td>Claudia</td>\n",
       "      <td>Norte</td>\n",
       "    </tr>\n",
       "    <tr>\n",
       "      <th>96</th>\n",
       "      <td>2</td>\n",
       "      <td>Produto C</td>\n",
       "      <td>4593</td>\n",
       "      <td>2023-04-07</td>\n",
       "      <td>Maria</td>\n",
       "      <td>Sul</td>\n",
       "    </tr>\n",
       "    <tr>\n",
       "      <th>97</th>\n",
       "      <td>1</td>\n",
       "      <td>Produto C</td>\n",
       "      <td>1400</td>\n",
       "      <td>2023-04-08</td>\n",
       "      <td>João</td>\n",
       "      <td>Nordeste</td>\n",
       "    </tr>\n",
       "    <tr>\n",
       "      <th>98</th>\n",
       "      <td>16</td>\n",
       "      <td>Produto B</td>\n",
       "      <td>4087</td>\n",
       "      <td>2023-04-09</td>\n",
       "      <td>Camila</td>\n",
       "      <td>Norte</td>\n",
       "    </tr>\n",
       "    <tr>\n",
       "      <th>99</th>\n",
       "      <td>5</td>\n",
       "      <td>Produto D</td>\n",
       "      <td>1627</td>\n",
       "      <td>2023-04-10</td>\n",
       "      <td>Carlos</td>\n",
       "      <td>Nordeste</td>\n",
       "    </tr>\n",
       "  </tbody>\n",
       "</table>\n",
       "<p>100 rows × 6 columns</p>\n",
       "</div>"
      ],
      "text/plain": [
       "    ID Cliente    Produto  Valor       Data     Nome        Região\n",
       "0            7  Produto C   1595 2023-01-01    Paula         Norte\n",
       "1           20  Produto D   3404 2023-01-02  Larissa  Centro-Oeste\n",
       "2           15  Produto D   3863 2023-01-03   Rafael           Sul\n",
       "3           11  Produto B   1953 2023-01-04  Ricardo       Sudeste\n",
       "4            8  Produto C   4759 2023-01-05  Roberto      Nordeste\n",
       "..         ...        ...    ...        ...      ...           ...\n",
       "95          12  Produto D    260 2023-04-06  Claudia         Norte\n",
       "96           2  Produto C   4593 2023-04-07    Maria           Sul\n",
       "97           1  Produto C   1400 2023-04-08     João      Nordeste\n",
       "98          16  Produto B   4087 2023-04-09   Camila         Norte\n",
       "99           5  Produto D   1627 2023-04-10   Carlos      Nordeste\n",
       "\n",
       "[100 rows x 6 columns]"
      ]
     },
     "execution_count": 20,
     "metadata": {},
     "output_type": "execute_result"
    }
   ],
   "source": [
    "# Cruzar as tabelas de vendas e clientes\n",
    "vendas_completas = pd.merge(vendas, clientes, on='ID Cliente', how='inner')\n",
    "vendas_completas"
   ]
  },
  {
   "cell_type": "markdown",
   "id": "fd12f95d",
   "metadata": {},
   "source": [
    "### 2.4 Agrupamentos de Bases\n",
    "Vamos agrupar a resultado por Produto e Região para verificarmos o valor total das vendas."
   ]
  },
  {
   "cell_type": "code",
   "execution_count": 32,
   "id": "4c3d6595",
   "metadata": {},
   "outputs": [
    {
     "data": {
      "text/plain": [
       "Produto    Região      \n",
       "Produto A  Centro-Oeste      866\n",
       "           Nordeste        30274\n",
       "           Norte           19935\n",
       "           Sudeste          5759\n",
       "           Sul              7926\n",
       "Produto B  Centro-Oeste     5110\n",
       "           Nordeste        29038\n",
       "           Norte           12043\n",
       "           Sudeste          1953\n",
       "           Sul             12961\n",
       "Produto C  Centro-Oeste    15627\n",
       "           Nordeste        28829\n",
       "           Norte           19341\n",
       "           Sudeste          3557\n",
       "           Sul             20084\n",
       "Produto D  Centro-Oeste    17952\n",
       "           Nordeste        13847\n",
       "           Norte           12843\n",
       "           Sul             12587\n",
       "Name: Valor, dtype: int64"
      ]
     },
     "execution_count": 32,
     "metadata": {},
     "output_type": "execute_result"
    }
   ],
   "source": [
    "# Agrupar as vendas por Produto e Região e calcular o total de vendas\n",
    "vendas_por_produto_regiao = vendas_completas.groupby(['Produto', 'Região'])['Valor'].sum()\n",
    "vendas_por_produto_regiao\n"
   ]
  },
  {
   "cell_type": "markdown",
   "id": "4b84ad1e",
   "metadata": {},
   "source": [
    "## 3. Visualização de Dados\n",
    "Vamos criar alguns gráficos para explorar os dados."
   ]
  },
  {
   "cell_type": "code",
   "execution_count": 21,
   "id": "2f795a5d",
   "metadata": {},
   "outputs": [
    {
     "data": {
      "image/png": "[encoded data removed]",
      "text/plain": [
       "<Figure size 640x480 with 1 Axes>"
      ]
     },
     "metadata": {},
     "output_type": "display_data"
    }
   ],
   "source": [
    "# Gráfico de distribuição dos valores de venda\n",
    "vendas['Valor'].hist(bins=10)\n",
    "plt.title('Distribuição dos Valores de Venda')\n",
    "plt.xlabel('Valor')\n",
    "plt.ylabel('Frequência')\n",
    "plt.show()"
   ]
  },
  {
   "cell_type": "code",
   "execution_count": 23,
   "id": "a52b1cf9",
   "metadata": {},
   "outputs": [
    {
     "data": {
      "image/png": "[encoded data removed]",
      "text/plain": [
       "<Figure size 640x480 with 1 Axes>"
      ]
     },
     "metadata": {},
     "output_type": "display_data"
    }
   ],
   "source": [
    "# Gráfico de barras horizontais: vendas por região\n",
    "vendas_por_regiao = vendas_completas.groupby('Região')['Valor'].sum()\n",
    "vendas_por_regiao.plot(kind='barh', color='skyblue')\n",
    "plt.title('Total de Vendas por Região')\n",
    "plt.xlabel('Valor Total de Vendas')\n",
    "plt.ylabel('Região')\n",
    "plt.show()\n"
   ]
  },
  {
   "cell_type": "code",
   "execution_count": null,
   "id": "c7ce2fd3",
   "metadata": {},
   "outputs": [],
   "source": []
  },
  {
   "cell_type": "code",
   "execution_count": null,
   "id": "c29fcf35",
   "metadata": {},
   "outputs": [],
   "source": []
  }
 ],
 "metadata": {
  "kernelspec": {
   "display_name": "Python 3",
   "language": "python",
   "name": "python3"
  },
  "language_info": {
   "codemirror_mode": {
    "name": "ipython",
    "version": 3
   },
   "file_extension": ".py",
   "mimetype": "text/x-python",
   "name": "python",
   "nbconvert_exporter": "python",
   "pygments_lexer": "ipython3",
   "version": "3.10.0"
  }
 },
 "nbformat": 4,
 "nbformat_minor": 5
}
